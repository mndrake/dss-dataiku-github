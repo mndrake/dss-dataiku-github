{
  "metadata": {
    "kernelspec": {
      "display_name": "Python (env python_36)",
      "name": "py-dku-venv-python_36",
      "language": "python"
    },
    "language_info": {
      "mimetype": "text/x-python",
      "nbconvert_exporter": "python",
      "version": "3.6.14",
      "name": "python",
      "pygments_lexer": "ipython3",
      "file_extension": ".py",
      "codemirror_mode": {
        "version": 3,
        "name": "ipython"
      }
    },
    "creator": "admin",
    "createdOn": 1638381098152,
    "hide_input": false,
    "modifiedBy": "admin",
    "customFields": {},
    "tags": [],
    "dkuGit": {
      "gitReference": {
        "remote": "git@github.com:mndrake/dataiku-resource-demo.git",
        "checkout": "refs/heads/main",
        "remotePath": "notebooks/Custom Library.ipynb",
        "lastHash": "aca3c7578958b2f1af13040fc551e2de849f7c55",
        "lastTimestamp": 1638381342000
      },
      "lastInteraction": 1638381343209
    }
  },
  "nbformat": 4,
  "nbformat_minor": 1,
  "cells": [
    {
      "execution_count": 1,
      "cell_type": "code",
      "metadata": {},
      "source": [
        "import analyticfunctions"
      ],
      "outputs": []
    },
    {
      "execution_count": 2,
      "cell_type": "code",
      "metadata": {},
      "source": [
        "analyticfunctions.get_now()"
      ],
      "outputs": [
        {
          "output_type": "execute_result",
          "metadata": {},
          "data": {
            "text/plain": "1638381275.1655521"
          },
          "execution_count": 2
        }
      ]
    },
    {
      "execution_count": 0,
      "cell_type": "code",
      "metadata": {},
      "source": [
        ""
      ],
      "outputs": []
    }
  ]
}