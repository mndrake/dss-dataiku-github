{
  "metadata": {
    "kernelspec": {
      "display_name": "Python (env python_36)",
      "name": "py-dku-venv-python_36",
      "language": "python"
    },
    "language_info": {
      "mimetype": "text/x-python",
      "nbconvert_exporter": "python",
      "version": "3.6.14",
      "name": "python",
      "pygments_lexer": "ipython3",
      "file_extension": ".py",
      "codemirror_mode": {
        "version": 3,
        "name": "ipython"
      }
    },
    "dkuGit": {
      "gitReference": {
        "remote": "git@github.com:mndrake/dataiku-resource-demo.git",
        "checkout": "refs/heads/main",
        "remotePath": "notebooks/Custom Library.ipynb",
        "lastHash": "e93117298078533b9c23d40e6ec42c430a854765",
        "lastTimestamp": 1638461671000
      },
      "lastInteraction": 1638461672889
    },
    "creator": "admin",
    "createdOn": 1638381098152,
    "hide_input": false,
    "modifiedBy": "admin",
    "customFields": {},
    "tags": []
  },
  "nbformat": 4,
  "nbformat_minor": 1,
  "cells": [
    {
      "cell_type": "markdown",
      "metadata": {},
      "source": [
        "## Custom Licences\n\nCode added to the shared libraries are added to `PYTHON_PATH` and available for import."
      ]
    },
    {
      "execution_count": 1,
      "cell_type": "code",
      "metadata": {},
      "source": [
        "import analyticfunctions"
      ],
      "outputs": []
    },
    {
      "execution_count": 2,
      "cell_type": "code",
      "metadata": {},
      "source": [
        "analyticfunctions.get_now()"
      ],
      "outputs": [
        {
          "output_type": "execute_result",
          "metadata": {},
          "data": {
            "text/plain": "1638381275.1655521"
          },
          "execution_count": 2
        }
      ]
    },
    {
      "execution_count": 0,
      "cell_type": "code",
      "metadata": {},
      "source": [
        ""
      ],
      "outputs": []
    }
  ]
}