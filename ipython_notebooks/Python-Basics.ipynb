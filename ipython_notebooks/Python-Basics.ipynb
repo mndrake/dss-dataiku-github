{
  "metadata": {
    "kernelspec": {
      "display_name": "Python (env python_36)",
      "name": "py-dku-venv-python_36",
      "language": "python"
    },
    "language_info": {
      "mimetype": "text/x-python",
      "nbconvert_exporter": "python",
      "version": "3.6.14",
      "name": "python",
      "pygments_lexer": "ipython3",
      "file_extension": ".py",
      "codemirror_mode": {
        "version": 3,
        "name": "ipython"
      }
    },
    "anaconda-cloud": {},
    "dkuGit": {
      "gitReference": {
        "remote": "git@github.com:mndrake/dataiku-resource-demo.git",
        "checkout": "refs/heads/main",
        "remotePath": "notebooks/Python-Basics.ipynb",
        "lastHash": "f2de8b9045fa9fc92e97925e5723e4654070bc81",
        "lastTimestamp": 1638380022000
      },
      "lastInteraction": 1638380023777
    },
    "creator": "admin",
    "createdOn": 1638379878523,
    "hide_input": false,
    "modifiedBy": "admin",
    "customFields": {},
    "tags": []
  },
  "nbformat": 4,
  "nbformat_minor": 2,
  "cells": [
    {
      "cell_type": "markdown",
      "metadata": {},
      "source": [
        "# Python Basics\n\n**A Tutorial by Jacob Gerace**"
      ]
    },
    {
      "cell_type": "markdown",
      "metadata": {},
      "source": [
        "## What I hope you\u0027ll get out of this tutorial\n* The feeling that you\u0027ll \"know where to start\" when you see python code in lecture, or when you need to write python for an assignment.\n* (You won\u0027t be a python expert after one hour)\n* Basics to variables, lists, conditionals, functions, loops, and the numpy package.\n* Resources to look further"
      ]
    },
    {
      "cell_type": "markdown",
      "metadata": {},
      "source": [
        "### Why Python?\n\n1. Clean syntax\n2. The same code can run on all Operating Systems\n3. **Extensive first and third party libraries (of particular note for our purposes is NumPy)**"
      ]
    },
    {
      "cell_type": "markdown",
      "metadata": {},
      "source": [
        "### Markdown Sidenote\n * This text is written in a Markdown block. Markdown is straightforward way to format writeups in Jupyter, but I won\u0027t cover it here for the sake of brevity. \n * See if you can use Markdown in your next homework, here\u0027s a link that explains the formatting: https://daringfireball.net/projects/markdown/syntax . \n * You can also look at existing Markdown examples (i.e. this worksheet) and emulate the style. Double click a Markdown box in Jupyter to show the code.\n "
      ]
    },
    {
      "cell_type": "markdown",
      "metadata": {},
      "source": [
        "### LaTeX Sidenote\n* LaTeX (pronounced \"La-tech\") is a language itself used widely to write documents with symbolic math\n* When you add a mathematical formula to these markdown blocks, the math is in LaTeX.\n* Ex from class: $$V \\frac{dC}{dt} \u003d u(t) - Q C(t)$$ \n* A good resource: https://en.wikibooks.org/wiki/LaTeX/Mathematics\n \n "
      ]
    },
    {
      "cell_type": "markdown",
      "metadata": {},
      "source": [
        "## Python Basics"
      ]
    },
    {
      "cell_type": "markdown",
      "metadata": {},
      "source": [
        "### Variables"
      ]
    },
    {
      "execution_count": 1,
      "cell_type": "code",
      "metadata": {},
      "source": [
        "#A variable stores a piece of data and gives it a name\nanswer \u003d 42\n\n#answer contained an integer because we gave it an integer!\n\nis_it_thursday \u003d True\nis_it_wednesday \u003d False\n\n#these both are \u0027booleans\u0027 or true/false values\n\npi_approx \u003d 3.1415\n\n#This will be a floating point number, or a number containing digits after the decimal point\n\nmy_name \u003d \"Jacob\"\n#This is a string datatype, the name coming from a string of characters\n\n#Data doesn\u0027t have to be a singular unit\n\n#p.s., we can print all of these with a print command. For Example:\nprint(answer)\nprint(pi_approx)"
      ],
      "outputs": [
        {
          "output_type": "stream",
          "name": "stdout",
          "text": "42\n3.1415\n"
        }
      ]
    },
    {
      "cell_type": "markdown",
      "metadata": {},
      "source": [
        "### More Complicated Data Types"
      ]
    },
    {
      "execution_count": 2,
      "cell_type": "code",
      "metadata": {
        "scrolled": true
      },
      "source": [
        "\n#What if we want to store many integers? We need a list!\nprices \u003d [10, 20, 30, 40, 50]\n\n#This is a way to define a list in place. We can also make an empty list and add to it.\ncolors \u003d []\n\ncolors.append(\"Green\")\ncolors.append(\"Blue\")\ncolors.append(\"Red\")\n\nprint(colors)\n\n#We can also add unlike data to a list\nprices.append(\"Sixty\")\n\n#As an exercise, look up lists in python and find out how to add in the middle of a list!\n\nprint(prices)\n#We can access a specific element of a list too:\n\nprint(colors[0])\nprint(colors[2])\n\n#Notice here how the first element of the list is index 0, not 1! \n#Languages like MATLAB are 1 indexed, be careful!\n\n#In addition to lists, there are tuples\n#Tuples behave very similarly to lists except that you can\u0027t change them \n# after you make them\n\n#An empty Tuple isn\u0027t very useful:\nempty_tuple \u003d ()\n\n#Nor is a tuple with just one value:\none_tuple \u003d (\"first\",)\n\n#But tuples with many values are useful:\nrosa_parks_info \u003d (\"Rosa\", \"Parks\", 1913, \"February\", 4)\n\n#You can access tuples just like lists\nprint(rosa_parks_info[0] + \" \" + rosa_parks_info[1])\n\n# You cannot modify existing tuples, but you can make new tuples that extend \n# the information.\n# I expect Tuples to come up less than lists. So we\u0027ll just leave it at that. "
      ],
      "outputs": [
        {
          "output_type": "stream",
          "name": "stdout",
          "text": "[\u0027Green\u0027, \u0027Blue\u0027, \u0027Red\u0027]\n[10, 20, 30, 40, 50, \u0027Sixty\u0027]\nGreen\nRed\nRosa Parks\n"
        }
      ]
    },
    {
      "cell_type": "markdown",
      "metadata": {},
      "source": [
        "### Using Variables"
      ]
    },
    {
      "execution_count": 3,
      "cell_type": "code",
      "metadata": {
        "scrolled": true
      },
      "source": [
        "float1 \u003d 5.75\nfloat2 \u003d 2.25\n#Addition, subtraction, multiplication, division are as you expect\n\nprint(float1 + float2)\nprint(float1 - float2)\nprint(float1 * float2)\nprint(float1 / float2)\n\n#Here\u0027s an interesting one that showed up in the first homework in 2017. Modulus: \nprint(5 % 2)"
      ],
      "outputs": [
        {
          "output_type": "stream",
          "name": "stdout",
          "text": "8.0\n3.5\n12.9375\n2.5555555555555554\n1\n"
        }
      ]
    },
    {
      "cell_type": "markdown",
      "metadata": {},
      "source": [
        "### Importing in Python: Math and plotting"
      ]
    },
    {
      "execution_count": 4,
      "cell_type": "code",
      "metadata": {},
      "source": [
        "#Just about every standard math function on a calculator has a python equivalent pre made.\n#however, they are from the \u0027math\u0027 package in python. Let\u0027s add that package!\nimport math\nprint(math.log(float1))\nprint(math.exp(float2))\nprint(math.pow(2,5))\n# There is a quicker way to write exponents if you want:\nprint(2.0**5.0)\n\n#Like in MATLAB, you can expand the math to entire lists\nlist3 \u003d [1, 2, 3, 4, 5]\nprint(2 * list3)"
      ],
      "outputs": [
        {
          "output_type": "stream",
          "name": "stdout",
          "text": "1.749199854809259\n9.487735836358526\n32.0\n32.0\n[1, 2, 3, 4, 5, 1, 2, 3, 4, 5]\n"
        }
      ]
    },
    {
      "execution_count": 5,
      "cell_type": "code",
      "metadata": {},
      "source": [
        "#We can plot easily in Python like in matlab, just import the relevant package!\n%matplotlib inline\nimport matplotlib.pyplot as plt\n\nx_vals \u003d [-2, -1, 0, 1, 2]\ny_vals \u003d [-4, -2, 0, 2, 4]\nplt.plot(x_vals, y_vals)"
      ],
      "outputs": [
        {
          "output_type": "execute_result",
          "metadata": {},
          "data": {
            "text/plain": "[\u003cmatplotlib.lines.Line2D at 0x1285b2390\u003e]"
          },
          "execution_count": 5
        },
        {
          "output_type": "display_data",
          "data": {
            "image/png": "[encoded data removed]",
            "text/plain": "\u003cFigure size 432x288 with 1 Axes\u003e"
          },
          "metadata": {}
        }
      ]
    },
    {
      "cell_type": "markdown",
      "metadata": {},
      "source": [
        "### Loops in Python"
      ]
    },
    {
      "execution_count": 6,
      "cell_type": "code",
      "metadata": {},
      "source": [
        "#Repeat code until a conditional statement ends the loop\n\n#Let\u0027s try printing a list\nfib \u003d [1, 1, 2, 3, 5, 8]\n\n#While loops are the basic type\ni \u003d 0\nwhile(i \u003c len(fib)):\n    print(fib[i])\n    i \u003d i + 1\n    \n#In matlab, to do the same thing you would have the conditional as: counter \u003c (length(fib) + 1)\n#This is because matlab starts indexing at 1, and python starts at 0.\n    \n#The above type of loop is so common that the \u0027for\u0027 loop is the way to write it faster.\n\nprint(\"Let\u0027s try that again\")\n#This is most similar to for loops in matlab\nfor i in range(0, len(fib)) :\n    print(fib[i])\n\nprint(\"One more time:\")\n#Or you can do so even neater\nfor e in fib:\n    print(e)"
      ],
      "outputs": [
        {
          "output_type": "stream",
          "name": "stdout",
          "text": "1\n1\n2\n3\n5\n8\nLet\u0027s try that again\n1\n1\n2\n3\n5\n8\nOne more time:\n1\n1\n2\n3\n5\n8\n"
        }
      ]
    },
    {
      "execution_count": 0,
      "cell_type": "code",
      "metadata": {},
      "source": [
        ""
      ],
      "outputs": []
    }
  ]
}